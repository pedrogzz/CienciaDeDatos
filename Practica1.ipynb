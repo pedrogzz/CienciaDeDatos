{
 "cells": [
  {
   "cell_type": "markdown",
   "metadata": {},
   "source": [
    "#  Practica 1: Preparacion de datos"
   ]
  },
  {
   "cell_type": "markdown",
   "metadata": {},
   "source": [
    "## ciencia de datos"
   ]
  },
  {
   "cell_type": "markdown",
   "metadata": {},
   "source": [
    "## Caso de estudio: Factores de riesgo de un choque aereo "
   ]
  },
  {
   "cell_type": "markdown",
   "metadata": {},
   "source": [
    "#1641543"
   ]
  },
  {
   "cell_type": "markdown",
   "metadata": {},
   "source": [
    "### Introducción\n",
    "\n",
    "En esta práctica analizaremos los datos obtenidos a través del portal https://www.kaggle.com/datasets en la cual encontramos información que nos podría ayudar a relacionarlos de diferente forma encontrando factores en común para poder determinar circunstancias que pudieran representar un riesgo o patrones en los diferentes accidentes. \n",
    "\n",
    "Las principales preguntas que nos plantearemos serán las siguientes:\n",
    "\n",
    "¿Cuándo se producen más choques?\n",
    "\n",
    "¿En que regiones es mas propenso un accidente? \n",
    "\n",
    "¿Quiénes tienden mas a tener accidentes? (clientes, modelo, marca, serial)\n",
    "\n",
    "¿Qué tan seguro son diferentes tipos de aviones de acuerdo a su relación pasajeros vivos-muertos? \n",
    "\n"
   ]
  },
  {
   "cell_type": "markdown",
   "metadata": {},
   "source": [
    "### Preparacion de datos\n",
    "\n",
    "Toda la información del archivo .csv fue recolectada de la pagina http://www.planecrashinfo.com/ que contiene información de alrededor de 75,000 accidentes aéreos en los que involucra tanto aviación privada, comercial y militar desde el año 1920  hasta 2019, en este archivos encontramos información detallada de cada accidente como la fecha, lugar, ruta, marca, modelo, S/N, operador, número de pasajeros,  bajas de tripulación y bajas en tierra. Toda esta información nos podría ser de gran ayuda para encontrar los patrones que buscamos.\n",
    "\n",
    "A través del lenguaje Bash podemos proceder para realizar acciones y trabajar con los archivos para un uso más rápido y apoyándonos con awk para poder realizar modificaciones en contenido del archivo directamente. Primeramente, necesitamos desencriptar el archivo zip descargado mediante el comando.\n",
    "\n",
    "\n"
   ]
  },
  {
   "cell_type": "code",
   "execution_count": null,
   "metadata": {},
   "outputs": [],
   "source": [
    "unzip plane-crash.zip "
   ]
  },
  {
   "cell_type": "markdown",
   "metadata": {},
   "source": [
    "Esto nos creó un archivo .csv  que es un archivo de datos separados en Excel con el cual trabajaremos atreves de awk. Procedemos a cambiar el nombre para ser mas fácil de teclear "
   ]
  },
  {
   "cell_type": "code",
   "execution_count": null,
   "metadata": {},
   "outputs": [],
   "source": [
    "mv planecrashinfo_20181121001952.csv info.csv"
   ]
  },
  {
   "cell_type": "markdown",
   "metadata": {},
   "source": [
    "Procedemos a realizar una copia del archivo por si llegara a ocurrir algún error durante su edición y lo nombramos como respaldo. "
   ]
  },
  {
   "cell_type": "code",
   "execution_count": null,
   "metadata": {},
   "outputs": [],
   "source": [
    " cp info.csv respaldo.csv"
   ]
  },
  {
   "cell_type": "markdown",
   "metadata": {},
   "source": [
    "Mediante el siguiente comando imprimimos en el cdm la línea numero 2 en la cual vienen los títulos de cada columna para darnos una idea de la información que contendrán y poder separarlos en sus respectivos documentos para ver en que pregunta serán de mayor utilidad cada uno. "
   ]
  },
  {
   "cell_type": "code",
   "execution_count": null,
   "metadata": {},
   "outputs": [],
   "source": [
    " awk 'NR<2 {print} ' info.csv"
   ]
  },
  {
   "cell_type": "markdown",
   "metadata": {},
   "source": [
    "Mediante el uso de las herramientas de awk y las funciones sort y unic podemos realizar un conteo para irnos dando una idea de los años en los que se tubo mas accidentes aéreos y relacionarlos con algún suceso para encontrar el porque esos años hubo mas y si han disminuido. Como se ve a continuación nos damos cuenta que alrededor de los años 70´s fueron los años con mas accidentes registrados llegando a llegar hasta mas de 100 accidentes en un solo año."
   ]
  },
  {
   "cell_type": "code",
   "execution_count": null,
   "metadata": {},
   "outputs": [],
   "source": [
    "awk -F ',' '{print $2}' p1.csv | sort | uniq -c\n",
    "\n",
    " 1  1908\"1  1909\" 1  1912\"     3  1913\"     2  1915\"     5  1916\"    7  1917\"    4  1918\"    8  1919\"   18  1920\"   12  1921     13  1922\"   12  1923\"    7  1924\"   11  1925\"   13  1926\"   20  1927\"   36  1928\"   39  1929\"   26  1930\"   33  1931\"          28  1932\"   28  1933    30  1934\"   38  1935\"   46  1936\"   30  1937\"   57  1938\"   28  1939\"   22  1940\"   22  1941\"  37  1942\"  42  1943\"   54  1944\"   73  1945\"   88  1946\"   82  1947\"   76  1948\"   67  1949\"   69  1950\"   74  1951\"   65  1952\"  69  1953\"  62  1954\"   57  1955\"   53  1956\"   66  1957\"   68  1958\"   66  1959\"   71  1960\"   59  1961   77  1962\"\n",
    "62  1963\"   69  1964\"   75  1965\"   76  1966\"   96  1967\"   97  1968\"   91  1969\"   91  1970\"   69  1971\"  105  1972\"          91  1973\"   86  1974\"   78  1975\"   88  1976\"   83  1977\"   78  1978\"   91  1979\"   66  1980\"   67  1981\"   70  1982   62  1983\"\n",
    "65  1984\"   74  1985\"   64  1986\"   75  1987\"   83  1988\"   95  1989\"   71  1990\"   88  1991\"   86  1992\"   67  1993\"  87  1994\"\n",
    "79  1995\"   81  1996\"   68  1997\"   69  1998\"   79  1999   77  2000\"   71  2001\"   75  2002\"   62  2003\"   61  2004\"   52  2005\"\n",
    "51  2006\"   54  2007\"   63  2008\"   52  2009\"   48  2010\"   46  2011\"   29  2012\"   33  2013\"   33  2014\"   22  2015\"  24  2016\"\n",
    "14  2017\"   18  2018\""
   ]
  },
  {
   "cell_type": "markdown",
   "metadata": {},
   "source": [
    "estos datos nos ayudan para darnos un preabulo de la respuesta a nuestra primera pregunta que es ¿Cuando se producen mas choques? "
   ]
  },
  {
   "cell_type": "markdown",
   "metadata": {},
   "source": [
    "Adicionalmente realizamos el mismo procedimiento para la pregunta dos realizando un conteo de los países donde se registraron mas accidentes en los últimos 100 años. Y como vemos en los resultados el que mayor índice de accidentes tiene es estados unidos ya que varios de sus estados por separados reportan muchos accidentes como california que representa por si solo mas de 130 accidentes que es lo equivalente a países como Colombia y Francia "
   ]
  },
  {
   "cell_type": "code",
   "execution_count": null,
   "metadata": {},
   "outputs": [],
   "source": [
    "awk -F ',' '{print $2}' p2.csv | sort | uniq -c\n",
    "\n",
    "1 Atlantic Ocean\" 2 Australia\" 1 Bolivia\" 1 Boston 3 Brazil\" 1 Cameroon\" 1 Canada\" 1 Canary Islands\" 2 Colombia\" 1 Democratic Republic Congo\" 1 Georgia\" 1 India\" 3 Indonesia\" 2 Italy\" 1 Kazakhstan 2 Malaysia\" 2 New Guinea\" 1 New Mexico\" 1 Pakistan\" 1 Peshawar 1 Pest Hungary\" 1 Russia\" 1 Staines 1 Switzerland\" 1 Thiells 1 Ukraine\" 1 Uruguay\" 1 Uzbekistan\" 1 Washington\" 1 Zimbabwe\" 1 off Ustica 1 10 mile SE of Tell City 1 10 miles SW of Las Vegas 1 100 miles W of Galway Bay 1 110 miles West of Ireland\" 1 116 miles WSW of Annette Island 1 18 NNW of Benton Harbor 1 325 miles east of Wake Island\" 1 570 miles northeast of Natal 1 800 miles east of Newfoundland\" 1 ACT 2 AK\" 1 Aaland Island 1 Aargau 38 Afghanistan\" 1 Afghanistan\" 1 Africa\" 1 Aichi 1 Arizona\" 14 Alabama\" 4 Alaska\" 1 Alaska\" 192 Alaska\" 1 Albania\" 8 Alberta 1 Algarve 21 Algeria\" 1 Amapa 2 American Samoa\" 2 Amsterdam\" 42 Angola\" 1 Antigua\" 1 Argentina\" 1 Argentina\" 46 Argentina\" 1 Argyll 32 Arizona\" 1 Ariège\" 12 Arkansas\" 1 Armenia 3 Armenia\" 2 Atlantic Ocean\" 51 Australia\" 5 Austria\" 1 Ayrshire 5 Azerbaijan 8 Azerbaijan\" 3 Azores 1 Azores (Portugal)\" 4 Azores\" 1 Azuay 11 BC 1 Baangladesh\" 9 Bahamas\" 1 Bahrain\" 1 Bali 3 Bangladesh\" 2 Barbados\" 1 Bavaria 1 Belarus 1 Belgian Congo (Zaire)\" 2 Belgian Congo\" 1 Belgium Congo\" 17 Belgium\" 1 Belize\" 1 Beni 1 Benin\" 1 Bermuda\""
   ]
  },
  {
   "cell_type": "markdown",
   "metadata": {},
   "source": [
    "Gracias a estas herramientas de bash pudimos darnos cuenta de varios errores presentes en la base de datos como nombres mal capturados asi mismo a danos una idea muy rapida de algunos facotres a tomar en cuenta que podrian tener relevancia durante la investigacion."
   ]
  }
 ],
 "metadata": {
  "kernelspec": {
   "display_name": "Python 3",
   "language": "python",
   "name": "python3"
  },
  "language_info": {
   "codemirror_mode": {
    "name": "ipython",
    "version": 3
   },
   "file_extension": ".py",
   "mimetype": "text/x-python",
   "name": "python",
   "nbconvert_exporter": "python",
   "pygments_lexer": "ipython3",
   "version": "3.6.5"
  }
 },
 "nbformat": 4,
 "nbformat_minor": 2
}
